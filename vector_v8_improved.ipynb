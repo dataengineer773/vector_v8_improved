{
 "cells": [
  {
   "cell_type": "code",
   "execution_count": 1,
   "id": "eec7e877-2269-42d8-a7ee-68ab1adc51f5",
   "metadata": {},
   "outputs": [],
   "source": [
    "class Vector:\n",
    "    def __init__(self, values):\n",
    "        self.values = values\n",
    "\n",
    "    def __repr__(self):\n",
    "        return f\"Vector({self.values})\""
   ]
  },
  {
   "cell_type": "code",
   "execution_count": 2,
   "id": "676d3439-45c6-4423-b5d2-3ce562840983",
   "metadata": {},
   "outputs": [],
   "source": [
    "def __eq__(self, other):\n",
    "    if isinstance(other, Vector):\n",
    "        return (len(self) == len(other) and\n",
    "                    all(a == b for a, b in zip(self, other)))\n",
    "    else:\n",
    "        return NotImplemented"
   ]
  },
  {
   "cell_type": "code",
   "execution_count": null,
   "id": "87c459b0-413b-477a-b3cc-d6f231f5cdfd",
   "metadata": {},
   "outputs": [],
   "source": []
  }
 ],
 "metadata": {
  "kernelspec": {
   "display_name": "Python 3 (ipykernel)",
   "language": "python",
   "name": "python3"
  },
  "language_info": {
   "codemirror_mode": {
    "name": "ipython",
    "version": 3
   },
   "file_extension": ".py",
   "mimetype": "text/x-python",
   "name": "python",
   "nbconvert_exporter": "python",
   "pygments_lexer": "ipython3",
   "version": "3.12.3"
  }
 },
 "nbformat": 4,
 "nbformat_minor": 5
}
